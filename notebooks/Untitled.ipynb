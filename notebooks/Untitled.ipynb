{
 "cells": [
  {
   "cell_type": "code",
   "execution_count": 1,
   "id": "b697ad25",
   "metadata": {},
   "outputs": [
    {
     "name": "stdout",
     "output_type": "stream",
     "text": [
      "env: GOOGLE_APPLICATION_CREDENTIALS=/Users/jtm/Downloads/sa-key.json\n"
     ]
    }
   ],
   "source": [
    "%env GOOGLE_APPLICATION_CREDENTIALS=/Users/jtm/Downloads/sa-key.json"
   ]
  },
  {
   "cell_type": "code",
   "execution_count": 2,
   "id": "1a4375c3",
   "metadata": {},
   "outputs": [
    {
     "name": "stderr",
     "output_type": "stream",
     "text": [
      "INFO - 2023-06-15 23:01:44 - Connecting to database\n",
      "INFO - 2023-06-15 23:01:44 - Successfully connected to db\n"
     ]
    }
   ],
   "source": [
    "from gretel_trainer.relational.extractor import TableExtractor, ExtractorConfig\n",
    "from gretel_trainer.relational.connectors import Connector\n",
    "from pathlib import Path\n",
    "\n",
    "SOURCE = \"bigquery://\"\n",
    "SAMPLE_SIZE = 10_000\n",
    "\n",
    "connector = Connector.from_conn_str(SOURCE)"
   ]
  },
  {
   "cell_type": "code",
   "execution_count": 3,
   "id": "3d69a80a",
   "metadata": {},
   "outputs": [
    {
     "data": {
      "text/plain": [
       "{'matttest.cdp_customer': TableMetadata(original_row_count=1, sampled_row_count=1, column_count=11),\n",
       " 'matttest.cdp_customer_dont_edit': TableMetadata(original_row_count=1, sampled_row_count=1, column_count=11)}"
      ]
     },
     "execution_count": 3,
     "metadata": {},
     "output_type": "execute_result"
    }
   ],
   "source": [
    "config = ExtractorConfig(target_row_count=SAMPLE_SIZE, sample_mode=\"random\")\n",
    "extractor = TableExtractor(config=config, storage_dir=Path(\"table-data\"), connector=connector)\n",
    "extractor.sample_tables()"
   ]
  }
 ],
 "metadata": {
  "kernelspec": {
   "display_name": "Python 3 (ipykernel)",
   "language": "python",
   "name": "python3"
  },
  "language_info": {
   "codemirror_mode": {
    "name": "ipython",
    "version": 3
   },
   "file_extension": ".py",
   "mimetype": "text/x-python",
   "name": "python",
   "nbconvert_exporter": "python",
   "pygments_lexer": "ipython3",
   "version": "3.9.10"
  }
 },
 "nbformat": 4,
 "nbformat_minor": 5
}
