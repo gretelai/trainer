{
 "cells": [
  {
   "cell_type": "markdown",
   "metadata": {},
   "source": [
    "# MultiTable"
   ]
  },
  {
   "cell_type": "markdown",
   "metadata": {},
   "source": [
    "## Quickstart"
   ]
  },
  {
   "cell_type": "code",
   "execution_count": null,
   "metadata": {},
   "outputs": [],
   "source": [
    "# End-to-end synthetics example\n",
    "\n",
    "from gretel_trainer.relational.connectors import sqlite_conn\n",
    "from gretel_trainer.relational.multi_table import MultiTable\n",
    "\n",
    "\n",
    "!curl -o \"ecom_xf.db\" \"https://gretel-blueprints-pub.s3.us-west-2.amazonaws.com/rdb/ecom_xf.db\"\n",
    "\n",
    "\n",
    "connector = sqlite_conn(\"ecom_xf.db\")\n",
    "relational_data = connector.extract()\n",
    "\n",
    "model = MultiTable(relational_data)\n",
    "model.train()\n",
    "synthetic_tables = model.generate()\n",
    "\n",
    "connector.save(synthetic_tables, prefix=\"syn_\")"
   ]
  },
  {
   "cell_type": "markdown",
   "metadata": {},
   "source": [
    "## Detailed walkthrough"
   ]
  },
  {
   "cell_type": "markdown",
   "metadata": {},
   "source": [
    "### Set up source relational data"
   ]
  },
  {
   "cell_type": "code",
   "execution_count": null,
   "metadata": {},
   "outputs": [],
   "source": [
    "# Display the schema of our demo database\n",
    "\n",
    "from IPython.display import Image\n",
    "\n",
    "Image(\"https://gretel-blueprints-pub.s3.us-west-2.amazonaws.com/rdb/ecommerce_db.png\", width=600, height=600)"
   ]
  },
  {
   "cell_type": "code",
   "execution_count": null,
   "metadata": {},
   "outputs": [],
   "source": [
    "# Download the demo database\n",
    "\n",
    "!curl -o \"ecom_xf.db\" \"https://gretel-blueprints-pub.s3.us-west-2.amazonaws.com/rdb/ecom_xf.db\""
   ]
  },
  {
   "cell_type": "code",
   "execution_count": null,
   "metadata": {},
   "outputs": [],
   "source": [
    "# Connect to SQLite database and extract relational data\n",
    "\n",
    "from gretel_trainer.relational.connectors import sqlite_conn\n",
    "\n",
    "ecommerce_db_path = \"ecom_xf.db\"\n",
    "\n",
    "sqlite = sqlite_conn(path=ecommerce_db_path)\n",
    "relational_data = sqlite.extract()"
   ]
  },
  {
   "cell_type": "code",
   "execution_count": null,
   "metadata": {},
   "outputs": [],
   "source": [
    "# Alternatively, manually define relational_data\n",
    "\n",
    "from gretel_trainer.relational.core import RelationalData\n",
    "import pandas as pd\n",
    "\n",
    "csv_dir = \"/path/to/extracted_csvs\"\n",
    "tables = [\"events\", \"users\", \"distribution_center\", \"products\", \"inventory_items\", \"order_items\"]\n",
    "\n",
    "rel_data = RelationalData()\n",
    "\n",
    "# rel_data.add_table(table_name, optional_primary_key_column, table_data_as_dataframe)\n",
    "for table in tables:\n",
    "    rel_data.add_table(table, \"id\", pd.read_csv(f\"{csv_dir}/{table}.csv\"))\n",
    "\n",
    "# rel_data.add_foreign_key(\"table.column\", \"parent_table.referenced_column\")\n",
    "rel_data.add_foreign_key(\"events.user_id\", \"users.id\")\n",
    "rel_data.add_foreign_key(\"order_items.user_id\", \"users.id\")\n",
    "rel_data.add_foreign_key(\"order_items.inventory_item_id\", \"inventory_items.id\")\n",
    "rel_data.add_foreign_key(\"inventory_items.product_id\", \"products.id\")\n",
    "rel_data.add_foreign_key(\"inventory_items.product_distribution_center_id\", \"distribution_center.id\")\n",
    "rel_data.add_foreign_key(\"products.distribution_center_id\", \"distribution_center.id\")\n"
   ]
  },
  {
   "cell_type": "markdown",
   "metadata": {},
   "source": [
    "### Transform, train, and generate"
   ]
  },
  {
   "cell_type": "code",
   "execution_count": null,
   "metadata": {},
   "outputs": [],
   "source": [
    "from gretel_trainer.relational.multi_table import MultiTable\n",
    "\n",
    "multitable = MultiTable(relational_data=relational_data, project_prefix=\"mtnb\")"
   ]
  },
  {
   "cell_type": "code",
   "execution_count": null,
   "metadata": {},
   "outputs": [],
   "source": [
    "# Transform some tables\n",
    "\n",
    "xform_out = multitable.transform(\n",
    "    configs={\n",
    "        \"users\": \"https://gretel-blueprints-pub.s3.amazonaws.com/rdb/users_policy.yaml\",\n",
    "        \"events\": \"https://gretel-blueprints-pub.s3.amazonaws.com/rdb/events_policy.yaml\",\n",
    "    }, \n",
    "    in_place=False\n",
    ")"
   ]
  },
  {
   "cell_type": "code",
   "execution_count": null,
   "metadata": {},
   "outputs": [],
   "source": [
    "# Compare original to transformed\n",
    "\n",
    "print(multitable.relational_data.get_table_data(\"users\").head(5))\n",
    "print(xform_out[\"users\"].head(5))"
   ]
  },
  {
   "cell_type": "code",
   "execution_count": null,
   "metadata": {},
   "outputs": [],
   "source": [
    "# Train synthetic models for all tables\n",
    "\n",
    "multitable.train()"
   ]
  },
  {
   "cell_type": "code",
   "execution_count": null,
   "metadata": {},
   "outputs": [],
   "source": [
    "# Inspect training results\n",
    "\n",
    "multitable.train_statuses"
   ]
  },
  {
   "cell_type": "markdown",
   "metadata": {},
   "source": [
    "If a subset of tables fails to train, they can be retried with modified datasets without throwing away and retraining the other tables that trained successfully."
   ]
  },
  {
   "cell_type": "code",
   "execution_count": null,
   "metadata": {},
   "outputs": [],
   "source": [
    "original_products = multitable.relational_data.get_table_data(\"products\")\n",
    "original_inventory_items = multitable.relational_data.get_table_data(\"inventory_items\")\n",
    "\n",
    "modified_products = original_products.assign(sku=\"000\")\n",
    "modified_inventory_items = original_inventory_items.assign(product_sku=\"000\")\n",
    "\n",
    "multitable.retrain_tables({\n",
    "    \"products\": modified_products,\n",
    "    \"inventory_items\": modified_inventory_items,\n",
    "})"
   ]
  },
  {
   "cell_type": "code",
   "execution_count": null,
   "metadata": {},
   "outputs": [],
   "source": [
    "# Generate synthetic data\n",
    "\n",
    "synthetic_tables = multitable.generate()"
   ]
  },
  {
   "cell_type": "code",
   "execution_count": null,
   "metadata": {},
   "outputs": [],
   "source": [
    "# Inspect generation results\n",
    "\n",
    "multitable.generate_statuses"
   ]
  },
  {
   "cell_type": "code",
   "execution_count": null,
   "metadata": {},
   "outputs": [],
   "source": [
    "# Compare original to synthetic data\n",
    "\n",
    "for table_name, dataframe in synthetic_tables.items():\n",
    "    print(table_name)\n",
    "    print(multitable.relational_data.get_table_data(table_name).head(5))\n",
    "    print(dataframe.head(5))"
   ]
  },
  {
   "cell_type": "code",
   "execution_count": null,
   "metadata": {},
   "outputs": [],
   "source": [
    "# Write output data to a new SQLite database\n",
    "\n",
    "from gretel_trainer.relational.connectors import sqlite_conn\n",
    "\n",
    "out_db_path = \"out.db\"\n",
    "\n",
    "out_db = sqlite_conn(out_db_path)\n",
    "out_db.save(synthetic_tables, prefix=\"syn_\")"
   ]
  },
  {
   "cell_type": "markdown",
   "metadata": {},
   "source": [
    "#### Postgres demo via Docker"
   ]
  },
  {
   "cell_type": "code",
   "execution_count": null,
   "metadata": {},
   "outputs": [],
   "source": [
    "# Start up a postgres container with docker\n",
    "\n",
    "!docker run --rm -d --name multitable_pgdemo -e POSTGRES_PASSWORD=password -p 5432:5432 postgres"
   ]
  },
  {
   "cell_type": "code",
   "execution_count": null,
   "metadata": {},
   "outputs": [],
   "source": [
    "# Write synthetic tables to the Postgres db\n",
    "\n",
    "from gretel_trainer.relational.connectors import postgres_conn\n",
    "\n",
    "out_db = postgres_conn(\"postgres\", \"password\", \"localhost\", 5432)\n",
    "out_db.save(synthetic_tables)\n"
   ]
  },
  {
   "cell_type": "code",
   "execution_count": null,
   "metadata": {},
   "outputs": [],
   "source": [
    "# Inspect the postgres database\n",
    "\n",
    "!docker exec multitable_pgdemo psql -U postgres -c \"\\dt\"\n",
    "!docker exec multitable_pgdemo psql -U postgres -c \"select * from users limit 5;\""
   ]
  },
  {
   "cell_type": "code",
   "execution_count": null,
   "metadata": {},
   "outputs": [],
   "source": [
    "# Tear down the docker container\n",
    "\n",
    "!docker stop multitable_pgdemo"
   ]
  },
  {
   "cell_type": "markdown",
   "metadata": {},
   "source": [
    "## Cleanup / reset"
   ]
  },
  {
   "cell_type": "code",
   "execution_count": null,
   "metadata": {},
   "outputs": [],
   "source": [
    "# Delete projects from Gretel Cloud and remove working directory\n",
    "\n",
    "import gretel_client\n",
    "\n",
    "projects = gretel_client.projects.projects.search_projects(query=\"mtnb\") \n",
    "for project in projects:\n",
    "    project.delete()\n",
    "\n",
    "!rm -rf working"
   ]
  }
 ],
 "metadata": {
  "kernelspec": {
   "display_name": "Python 3.9.10 64-bit ('3.9.10')",
   "language": "python",
   "name": "python3"
  },
  "language_info": {
   "codemirror_mode": {
    "name": "ipython",
    "version": 3
   },
   "file_extension": ".py",
   "mimetype": "text/x-python",
   "name": "python",
   "nbconvert_exporter": "python",
   "pygments_lexer": "ipython3",
   "version": "3.9.10"
  },
  "orig_nbformat": 4,
  "vscode": {
   "interpreter": {
    "hash": "c8726cf33f00e2373738d19e8a73b26d03723d6c732c72211354be2991192c77"
   }
  }
 },
 "nbformat": 4,
 "nbformat_minor": 2
}
