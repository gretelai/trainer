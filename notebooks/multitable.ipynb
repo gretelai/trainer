{
 "cells": [
  {
   "cell_type": "markdown",
   "metadata": {},
   "source": [
    "# MultiTable"
   ]
  },
  {
   "cell_type": "markdown",
   "metadata": {},
   "source": [
    "## Set up source relational data"
   ]
  },
  {
   "cell_type": "code",
   "execution_count": null,
   "metadata": {},
   "outputs": [],
   "source": [
    "# Display the schema of our demo database\n",
    "\n",
    "from IPython.display import Image\n",
    "\n",
    "Image(\"https://gretel-blueprints-pub.s3.us-west-2.amazonaws.com/rdb/ecommerce_db.png\", width=600, height=600)"
   ]
  },
  {
   "cell_type": "code",
   "execution_count": null,
   "metadata": {},
   "outputs": [],
   "source": [
    "# Download the demo database\n",
    "\n",
    "!curl -o \"ecom_xf.db\" \"https://gretel-blueprints-pub.s3.us-west-2.amazonaws.com/rdb/ecom_xf.db\""
   ]
  },
  {
   "cell_type": "code",
   "execution_count": null,
   "metadata": {},
   "outputs": [],
   "source": [
    "# Connect to SQLite database and extract relational data\n",
    "\n",
    "from gretel_trainer.relational.connectors import SQLite\n",
    "\n",
    "ecommerce_db_path = \"sqlite:///ecom_xf.db\"\n",
    "\n",
    "sqlite = SQLite(db_path=ecommerce_db_path, out_dir=\"./out\")\n",
    "relational_data = sqlite.extract()"
   ]
  },
  {
   "cell_type": "code",
   "execution_count": null,
   "metadata": {},
   "outputs": [],
   "source": [
    "# Alternatively, manually define relational_data\n",
    "\n",
    "from gretel_trainer.relational.core import RelationalData\n",
    "import pandas as pd\n",
    "\n",
    "csv_dir = \"/path/to/extracted_csvs\"\n",
    "\n",
    "rel_data = RelationalData()\n",
    "\n",
    "rel_data.add_table(\"events\", \"id\", pd.read_csv(f\"{csv_dir}/events.csv\"))\n",
    "rel_data.add_table(\"users\", \"id\", pd.read_csv(f\"{csv_dir}/users.csv\"))\n",
    "rel_data.add_table(\"inventory_items\", \"id\", pd.read_csv(f\"{csv_dir}/inventory_items.csv\"))\n",
    "rel_data.add_table(\"products\", \"id\", pd.read_csv(f\"{csv_dir}/products.csv\"))\n",
    "rel_data.add_table(\"distribution_center\", \"id\", pd.read_csv(f\"{csv_dir}/distribution_center.csv\"))\n",
    "rel_data.add_table(\"order_items\", \"id\", pd.read_csv(f\"{csv_dir}/order_items.csv\"))\n",
    "\n",
    "rel_data.add_foreign_key(\"events.user_id\", \"users.id\")\n",
    "rel_data.add_foreign_key(\"order_items.user_id\", \"users.id\")\n",
    "rel_data.add_foreign_key(\"order_items.inventory_item_id\", \"inventory_items.id\")\n",
    "rel_data.add_foreign_key(\"inventory_items.product_id\", \"products.id\")\n",
    "rel_data.add_foreign_key(\"inventory_items.product_distribution_center_id\", \"distribution_center.id\")\n",
    "rel_data.add_foreign_key(\"products.distribution_center_id\", \"distribution_center.id\")\n"
   ]
  },
  {
   "cell_type": "markdown",
   "metadata": {},
   "source": [
    "## Do things with the source data!"
   ]
  },
  {
   "cell_type": "code",
   "execution_count": null,
   "metadata": {},
   "outputs": [],
   "source": [
    "from gretel_trainer.relational.multi_table import MultiTable\n",
    "\n",
    "multitable = MultiTable(relational_data=relational_data)"
   ]
  },
  {
   "cell_type": "code",
   "execution_count": null,
   "metadata": {},
   "outputs": [],
   "source": [
    "# Transform some tables\n",
    "\n",
    "xform_out = multitable.transform(\n",
    "    configs={\n",
    "        \"users\": \"https://gretel-blueprints-pub.s3.amazonaws.com/rdb/users_policy.yaml\",\n",
    "        \"events\": \"https://gretel-blueprints-pub.s3.amazonaws.com/rdb/events_policy.yaml\",\n",
    "    }, \n",
    "    in_place=False\n",
    ")"
   ]
  },
  {
   "cell_type": "code",
   "execution_count": null,
   "metadata": {},
   "outputs": [],
   "source": [
    "# Compare original to transformed\n",
    "\n",
    "print(multitable.relational_data.get_table_data(\"users\").head(5))\n",
    "print(xform_out[\"users\"].head(5))"
   ]
  },
  {
   "cell_type": "code",
   "execution_count": null,
   "metadata": {},
   "outputs": [],
   "source": [
    "# Train synthetic models for all tables\n",
    "\n",
    "multitable.train()"
   ]
  },
  {
   "cell_type": "markdown",
   "metadata": {},
   "source": [
    "The `products` and `inventory_items` tables from the ecommerce dataset contain a column (`sku`) containing only null / None / NaN values, which consistently leads to ACTGAN training failures. The next cell demonstrates how to provide a modified version of a table and retrain _just that table_ without throwing away and retraining the other tables that were successful. (For demo simplicity, we'll simply drop the `sku` column.)"
   ]
  },
  {
   "cell_type": "code",
   "execution_count": null,
   "metadata": {},
   "outputs": [],
   "source": [
    "original_products = multitable.relational_data.get_table_data(\"products\")\n",
    "modified_products = original_products.drop(columns=[\"sku\"])\n",
    "multitable.retrain_with_table(\"products\", modified_products)\n",
    "\n",
    "original_inventory_items = multitable.relational_data.get_table_data(\"inventory_items\")\n",
    "modified_inventory_items = original_inventory_items.drop(columns=[\"sku\"])\n",
    "multitable.retrain_with_table(\"inventory_items\", modified_inventory_items)"
   ]
  },
  {
   "cell_type": "code",
   "execution_count": null,
   "metadata": {},
   "outputs": [],
   "source": [
    "synthetic_tables = multitable.generate()"
   ]
  }
 ],
 "metadata": {
  "kernelspec": {
   "display_name": "Python 3.9.10 64-bit ('3.9.10')",
   "language": "python",
   "name": "python3"
  },
  "language_info": {
   "codemirror_mode": {
    "name": "ipython",
    "version": 3
   },
   "file_extension": ".py",
   "mimetype": "text/x-python",
   "name": "python",
   "nbconvert_exporter": "python",
   "pygments_lexer": "ipython3",
   "version": "3.9.10"
  },
  "orig_nbformat": 4,
  "vscode": {
   "interpreter": {
    "hash": "c8726cf33f00e2373738d19e8a73b26d03723d6c732c72211354be2991192c77"
   }
  }
 },
 "nbformat": 4,
 "nbformat_minor": 2
}
