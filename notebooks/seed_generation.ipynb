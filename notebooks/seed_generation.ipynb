{
 "cells": [
  {
   "cell_type": "code",
   "execution_count": null,
   "metadata": {},
   "outputs": [],
   "source": [
    "%%capture\n",
    "!git clone https://github.com/gretelai/draw-data.git\n",
    "!pip install -U ./draw-data"
   ]
  },
  {
   "cell_type": "markdown",
   "metadata": {},
   "source": [
    "## Import the canvas and supporting libraries"
   ]
  },
  {
   "cell_type": "code",
   "execution_count": null,
   "metadata": {},
   "outputs": [],
   "source": [
    "import matplotlib.pyplot as plt\n",
    "import numpy as np\n",
    "import seaborn as sns\n",
    "import pandas as pd\n",
    "\n",
    "from ipywidgets import (HBox, VBox)\n",
    "\n",
    "from sklearn.preprocessing import LabelEncoder\n",
    "\n",
    "from draw.canvas import get_canvas\n",
    "\n",
    "from gretel_client import configure_session\n",
    "from gretel_client.projects.models import  read_model_config\n",
    "from gretel_client.projects import create_or_get_unique_project\n",
    "from gretel_client.helpers import poll"
   ]
  },
  {
   "cell_type": "markdown",
   "metadata": {},
   "source": [
    "In this notebook we will create a conditional data generation model that can generate synthetic data based on a sketch we put on a canvas. So to start we configure our gretel session. Get the and paste your API key when prompted"
   ]
  },
  {
   "cell_type": "code",
   "execution_count": null,
   "metadata": {},
   "outputs": [],
   "source": [
    "configure_session(api_key=\"prompt\", cache=\"yes\", validate=True)"
   ]
  },
  {
   "cell_type": "markdown",
   "metadata": {},
   "source": [
    "### We'll pull an example shopping dataset and subsample it for training time"
   ]
  },
  {
   "cell_type": "code",
   "execution_count": null,
   "metadata": {},
   "outputs": [],
   "source": [
    "train_df = pd.read_csv(\"https://gretel-public-website.s3.us-west-2.amazonaws.com/datasets/E-commerce+Dataset.csv\")\n",
    "train_df = train_df.dropna()\n",
    "train_df = train_df.drop_duplicates()\n",
    "train_df = train_df.sample(n=5000).reset_index(drop=True) # subsample"
   ]
  },
  {
   "cell_type": "code",
   "execution_count": null,
   "metadata": {},
   "outputs": [],
   "source": [
    "train_df.head()"
   ]
  },
  {
   "cell_type": "markdown",
   "metadata": {},
   "source": [
    "## Setup for data editing\n",
    "\n",
    "#### We seed on one column at a time, so you choose the column and set the variable to determine if it is a categorical value or not\n",
    "\n",
    "Here we set up some parameters about our data to help the canvas \"look nice\" - you can leave these as their default values or change them for your dataset. \n",
    "\n",
    "Feel free to give feedback on anything that isn't intuitive! We'd love to fix it."
   ]
  },
  {
   "cell_type": "code",
   "execution_count": null,
   "metadata": {},
   "outputs": [],
   "source": [
    "is_categorical = True\n",
    "if is_categorical:\n",
    "    column = 'Product_Category'\n",
    "else:\n",
    "    # Note, numerical seeding often works poorly\n",
    "    column = 'Sales'\n",
    "\n",
    "data_to_sample = 5000\n",
    "\n",
    "if is_categorical:\n",
    "    le = LabelEncoder()\n",
    "    train_df[f\"{column}_codes\"] = le.fit_transform(train_df[column].values)\n",
    "    original_column = column\n",
    "    column = f\"{column}_codes\"\n",
    "else:\n",
    "    original_column = column\n",
    "    column = column\n",
    "\n",
    "\n",
    "# set desired x limits\n",
    "domain_min = train_df[column].min()\n",
    "domain_max = train_df[column].max()\n",
    "\n",
    "if is_categorical:\n",
    "    train_df[original_column].value_counts().plot.bar()\n",
    "    plt.xticks(rotation=25)\n",
    "else:\n",
    "    sns.displot(train_df[original_column])\n",
    "\n",
    "plt.xlabel(original_column)\n",
    "\n",
    "# turn off y axis\n",
    "plt.gca().yaxis.set_visible(False)\n",
    "\n",
    "# get y axis limits from plot\n",
    "y_lim = plt.gca().get_ylim()\n",
    "\n",
    "x_labels = [x.get_text() for x in plt.gca().get_xticklabels()]\n",
    "plt.show()"
   ]
  },
  {
   "cell_type": "markdown",
   "metadata": {},
   "source": [
    "## We then train a gretel seed model - this should take a few minutes"
   ]
  },
  {
   "cell_type": "code",
   "execution_count": null,
   "metadata": {},
   "outputs": [],
   "source": [
    "project = create_or_get_unique_project(name=\"draw-your-own-data\")\n",
    "config = read_model_config(\"synthetics/default\")\n",
    "fields = [original_column] # just seeding on one column as an example\n",
    "task = {\"type\": \"seed\", \"attrs\": {\"fields\": fields}}\n",
    "config[\"models\"][0][\"synthetics\"][\"task\"] = task\n",
    "\n",
    "# Fit the model on the training set\n",
    "train_df.to_csv(\"train.csv\", index=False)\n",
    "model = project.create_model_obj(model_config=config, data_source=\"train.csv\")\n",
    "\n",
    "model.submit_cloud()\n",
    "\n",
    "poll(model)\n",
    "\n",
    "synthetic = pd.read_csv(model.get_artifact_link(\"data_preview\"), compression=\"gzip\")\n",
    "synthetic.head()"
   ]
  },
  {
   "cell_type": "markdown",
   "metadata": {},
   "source": [
    "## We look at the synthetic data\n",
    "\n",
    "He we see that the synthetic data distribution matches the original distribution very well. "
   ]
  },
  {
   "cell_type": "code",
   "execution_count": null,
   "metadata": {},
   "outputs": [],
   "source": [
    "if is_categorical:\n",
    "    synthetic[original_column].value_counts().plot.bar()\n",
    "    plt.xticks(rotation=25)\n",
    "else:\n",
    "    sns.displot(synthetic[original_column])\n",
    "\n",
    "plt.xlabel(original_column)\n",
    "\n",
    "# turn off y axis\n",
    "plt.gca().yaxis.set_visible(False)\n",
    "\n",
    "plt.show()"
   ]
  },
  {
   "cell_type": "markdown",
   "metadata": {},
   "source": [
    "## Draw your own data\n",
    "\n",
    "The main point of this notebook is below. We can now change the distribution of our seed column to look how we want, just by drawing. There are many applications for this  - imagine editing how data changes over months of the year, or balancing a dataset between various classes\n",
    "\n",
    "### Click 'Download' when you're happy with your drawing"
   ]
  },
  {
   "cell_type": "code",
   "execution_count": null,
   "metadata": {},
   "outputs": [],
   "source": [
    "canvas, clear_button, download_button = get_canvas(train_df, column, original_column, x_labels, is_categorical, domain_min, domain_max, data_to_sample, le)\n",
    "HBox((canvas,\n",
    "    VBox((clear_button, download_button))))"
   ]
  },
  {
   "cell_type": "markdown",
   "metadata": {},
   "source": [
    "## Conditionally generate data using the \"downloaded\" drawn data above"
   ]
  },
  {
   "cell_type": "code",
   "execution_count": null,
   "metadata": {},
   "outputs": [],
   "source": [
    "# Use the model to generate additional synthetic data.\n",
    "import os\n",
    "assert os.path.exists(\"seeds.csv\") == True\n",
    "seeds = pd.read_csv(\"seeds.csv\")\n",
    "\n",
    "rh = model.create_record_handler_obj(\n",
    "    data_source=\"seeds.csv\", params={\"num_records\": len(seeds)}\n",
    ")\n",
    "rh.submit_cloud()\n",
    "\n",
    "poll(rh)\n",
    "\n",
    "synthetic_next = pd.read_csv(rh.get_artifact_link(\"data\"), compression=\"gzip\")\n",
    "synthetic_next"
   ]
  },
  {
   "cell_type": "markdown",
   "metadata": {},
   "source": [
    "Plot the next data distribution, it looks like what you drew!"
   ]
  },
  {
   "cell_type": "code",
   "execution_count": null,
   "metadata": {},
   "outputs": [],
   "source": [
    "if is_categorical:\n",
    "    synthetic_next[original_column].value_counts().loc[x_labels].plot.bar()\n",
    "\n",
    "    plt.xticks(rotation=25)\n",
    "else:\n",
    "    sns.displot(synthetic_next[original_column])\n",
    "\n",
    "plt.xlabel(original_column)\n",
    "\n",
    "# turn off y axis\n",
    "plt.gca().yaxis.set_visible(False)\n",
    "\n",
    "plt.show()"
   ]
  },
  {
   "cell_type": "markdown",
   "metadata": {},
   "source": [
    "Now we have data where one column follows the data distribution we drew above! Enjoy and share!"
   ]
  },
  {
   "cell_type": "code",
   "execution_count": null,
   "metadata": {},
   "outputs": [],
   "source": [
    "synthetic_next.head()"
   ]
  },
  {
   "cell_type": "code",
   "execution_count": null,
   "metadata": {},
   "outputs": [],
   "source": []
  }
 ],
 "metadata": {
  "kernelspec": {
   "display_name": "Python 3.9.13 ('darw')",
   "language": "python",
   "name": "python3"
  },
  "language_info": {
   "codemirror_mode": {
    "name": "ipython",
    "version": 3
   },
   "file_extension": ".py",
   "mimetype": "text/x-python",
   "name": "python",
   "nbconvert_exporter": "python",
   "pygments_lexer": "ipython3",
   "version": "3.9.13"
  },
  "orig_nbformat": 4,
  "vscode": {
   "interpreter": {
    "hash": "ace9cc04b895562d0829b8974a591da073fb5f36f2c1514ba11cf9b7844188d0"
   }
  }
 },
 "nbformat": 4,
 "nbformat_minor": 2
}
