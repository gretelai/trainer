{
  "cells": [
    {
      "cell_type": "code",
      "execution_count": null,
      "metadata": {
        "id": "iQs3yTRCCnal"
      },
      "outputs": [],
      "source": [
        "!pip install -Uqq gretel-trainer"
      ]
    },
    {
      "cell_type": "code",
      "execution_count": null,
      "metadata": {
        "id": "0byh9LwDlt1w"
      },
      "outputs": [],
      "source": [
        "# Load and preview the patient dataset\n",
        "import pandas as pd\n",
        "from gretel_trainer import trainer\n",
        "\n",
        "DATASET_PATH = 'https://gretel-public-website.s3.amazonaws.com/datasets/mitre-synthea-health.csv'\n",
        "SEED_FIELDS = [\"RACE\", \"ETHNICITY\", \"GENDER\"]\n",
        "\n",
        "print(\"\\nPreviewing real world dataset\\n\")\n",
        "pd.read_csv(DATASET_PATH)"
      ]
    },
    {
      "cell_type": "code",
      "execution_count": null,
      "metadata": {},
      "outputs": [],
      "source": [
        "# Configure Gretel credentials\n",
        "from gretel_client import configure_session\n",
        "\n",
        "configure_session(api_key=\"prompt\", cache=\"yes\", validate=True)"
      ]
    },
    {
      "cell_type": "code",
      "execution_count": null,
      "metadata": {
        "id": "Gh10cM4SiHPM"
      },
      "outputs": [],
      "source": [
        "# Train model\n",
        "model = trainer.Trainer()\n",
        "model.train(DATASET_PATH, seed_fields=SEED_FIELDS)"
      ]
    },
    {
      "cell_type": "code",
      "execution_count": null,
      "metadata": {
        "id": "hQzps70Mlt1x"
      },
      "outputs": [],
      "source": [
        "# Conditionally generate data\n",
        "seed_df = pd.DataFrame(data=[\n",
        "    [\"black\", \"african\", \"F\"],\n",
        "    [\"black\", \"african\", \"F\"],\n",
        "    [\"black\", \"african\", \"F\"],\n",
        "    [\"black\", \"african\", \"F\"],\n",
        "    [\"asian\", \"chinese\", \"F\"],\n",
        "    [\"asian\", \"chinese\", \"F\"],\n",
        "    [\"asian\", \"chinese\", \"F\"],\n",
        "    [\"asian\", \"chinese\", \"F\"],\n",
        "    [\"asian\", \"chinese\", \"F\"]\n",
        "], columns=SEED_FIELDS)\n",
        "\n",
        "model.generate(seed_df=seed_df)"
      ]
    }
  ],
  "metadata": {
    "colab": {
      "collapsed_sections": [],
      "provenance": []
    },
    "kernelspec": {
      "display_name": "Python 3.9.12 ('tf')",
      "language": "python",
      "name": "python3"
    },
    "language_info": {
      "name": "python",
      "version": "3.9.12"
    },
    "vscode": {
      "interpreter": {
        "hash": "703c8eb0050a28c8a758f18c4cdd43f6b1049f16c9c1e547864e8c8da84ff1ba"
      }
    }
  },
  "nbformat": 4,
  "nbformat_minor": 0
}
