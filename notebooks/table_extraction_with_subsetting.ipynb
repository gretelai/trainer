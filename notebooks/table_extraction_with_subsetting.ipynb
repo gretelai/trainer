{
 "cells": [
  {
   "cell_type": "code",
   "execution_count": null,
   "id": "a2900f42",
   "metadata": {},
   "outputs": [],
   "source": [
    "from pathlib import Path\n",
    "\n",
    "from gretel_trainer.relational.connectors import Connector\n",
    "from gretel_trainer.relational.extractor import ExtractorConfig, TableExtractor\n",
    "from sqlalchemy import create_engine\n",
    "\n",
    "# Where we are gonna drop these tables!\n",
    "storage_dir = Path(\"table-data\")\n",
    "storage_dir.mkdir(exist_ok=True)\n",
    "\n",
    "!curl -o \"ecom.db\" \"https://gretel-blueprints-pub.s3.us-west-2.amazonaws.com/rdb/ecom_xf.db\""
   ]
  },
  {
   "cell_type": "code",
   "execution_count": null,
   "id": "cf21bac7",
   "metadata": {
    "scrolled": false
   },
   "outputs": [],
   "source": [
    "connector = Connector.from_conn_str(\"sqlite:///ecom.db\")\n",
    "\n",
    "# Change this if you want more/less subsetting. You can set it to 0 and only the headers\n",
    "# of the tables will be extracted. The default mode is -1 (get all the tables)\n",
    "#\n",
    "# If you set to a value between 0..1 (exclusive), then that will be the rough\n",
    "# percentage of rows that are sampled. So a value of .5 will sample roughly half.\n",
    "\n",
    "config = ExtractorConfig(\n",
    "    target_row_count=100,\n",
    ")\n",
    "\n",
    "extractor = TableExtractor(connector=connector, config=config, storage_dir=storage_dir)\n",
    "extractor.sample_tables()"
   ]
  },
  {
   "cell_type": "code",
   "execution_count": null,
   "id": "9088f8a0",
   "metadata": {},
   "outputs": [],
   "source": [
    "# All the tables are on disk in the `storage_dir`, you can load one\n",
    "# back in as a DF just based on the table name.\n",
    "\n",
    "import random\n",
    "import pandas as pd\n",
    "\n",
    "df = extractor.get_table_df(random.choice(extractor.table_order))\n",
    "print(df.head())"
   ]
  }
 ],
 "metadata": {
  "kernelspec": {
   "display_name": "Python 3 (ipykernel)",
   "language": "python",
   "name": "python3"
  },
  "language_info": {
   "codemirror_mode": {
    "name": "ipython",
    "version": 3
   },
   "file_extension": ".py",
   "mimetype": "text/x-python",
   "name": "python",
   "nbconvert_exporter": "python",
   "pygments_lexer": "ipython3",
   "version": "3.9.10"
  }
 },
 "nbformat": 4,
 "nbformat_minor": 5
}
