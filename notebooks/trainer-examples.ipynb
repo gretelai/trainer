{
  "cells": [
    {
      "cell_type": "code",
      "execution_count": null,
      "metadata": {
        "id": "iQs3yTRCCnal"
      },
      "outputs": [],
      "source": [
        "#!pip install -Uqq gretel-trainer"
      ]
    },
    {
      "cell_type": "code",
      "execution_count": null,
      "metadata": {
        "id": "rNI6TSbOCrEo"
      },
      "outputs": [],
      "source": [
        "from gretel_trainer import Trainer\n",
        "\n",
        "dataset = \"https://gretel-public-website.s3-us-west-2.amazonaws.com/datasets/USAdultIncome5k.csv\"\n",
        "\n",
        "# Simplest example\n",
        "model = Trainer()\n",
        "model.train(dataset)\n",
        "model.generate()"
      ]
    },
    {
      "cell_type": "code",
      "execution_count": null,
      "metadata": {},
      "outputs": [],
      "source": [
        "# Specify underlying model and config options.\n",
        "# configs can be either a string, dict, or path\n",
        "\n",
        "from gretel_trainer.models import GretelLSTM, GretelCTGAN\n",
        "\n",
        "model_type = GretelCTGAN(\n",
        "    config=\"synthetics/high-dimensionality\", \n",
        "    max_header_clusters=100, \n",
        "    max_rows=50000\n",
        ")\n",
        "\n",
        "# Optionally update model params from a base config\n",
        "model_type.update_params({'epochs': 500})\n",
        "\n",
        "model = Trainer(model_type=model_type)\n",
        "model.train(dataset)\n",
        "model.generate()"
      ]
    },
    {
      "cell_type": "code",
      "execution_count": null,
      "metadata": {},
      "outputs": [],
      "source": [
        "# Or, load and generate data from an existing model\n",
        "\n",
        "model = Trainer.load()\n",
        "model.generate(num_records=42)"
      ]
    },
    {
      "cell_type": "code",
      "execution_count": null,
      "metadata": {},
      "outputs": [],
      "source": [
        "# Train a model and conditionally generate data\n",
        "\n",
        "import pandas as pd\n",
        "\n",
        "DATASET_PATH = 'https://gretel-public-website.s3.amazonaws.com/datasets/mitre-synthea-health.csv'\n",
        "MODEL_TYPE = [GretelLSTM(), GretelCTGAN()][1]\n",
        "\n",
        "# Create dataset to autocomplete values for\n",
        "seed_df = pd.DataFrame(data=[\n",
        "    [\"black\", \"african\", \"F\"],\n",
        "    [\"black\", \"african\", \"F\"],\n",
        "    [\"black\", \"african\", \"F\"],\n",
        "    [\"black\", \"african\", \"F\"],\n",
        "    [\"asian\", \"chinese\", \"F\"],\n",
        "    [\"asian\", \"chinese\", \"F\"],\n",
        "    [\"asian\", \"chinese\", \"F\"],\n",
        "    [\"asian\", \"chinese\", \"F\"],\n",
        "    [\"asian\", \"chinese\", \"F\"]\n",
        "], columns=[\"RACE\", \"ETHNICITY\", \"GENDER\"])\n",
        "\n",
        "seed_fields = seed_df.columns.values.tolist()\n",
        "model = Trainer(model_type=MODEL_TYPE)\n",
        "model.train(DATASET_PATH, seed_fields=seed_fields)\n",
        "model.generate(seed_df=seed_df)"
      ]
    },
    {
      "cell_type": "code",
      "execution_count": null,
      "metadata": {},
      "outputs": [],
      "source": [
        "# Or, load a existing model and conditionally generate data\n",
        "\n",
        "model = Trainer.load()\n",
        "model.generate(seed_df=seed_df)"
      ]
    }
  ],
  "metadata": {
    "colab": {
      "collapsed_sections": [],
      "name": "trainer-examples.ipynb",
      "provenance": []
    },
    "kernelspec": {
      "display_name": "Python 3.9.12 ('tf')",
      "language": "python",
      "name": "python3"
    },
    "language_info": {
      "name": "python",
      "version": "3.9.12"
    },
    "vscode": {
      "interpreter": {
        "hash": "703c8eb0050a28c8a758f18c4cdd43f6b1049f16c9c1e547864e8c8da84ff1ba"
      }
    }
  },
  "nbformat": 4,
  "nbformat_minor": 0
}
