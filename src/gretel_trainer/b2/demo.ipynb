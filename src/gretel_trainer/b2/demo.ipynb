{
 "cells": [
  {
   "cell_type": "code",
   "execution_count": null,
   "metadata": {},
   "outputs": [],
   "source": [
    "import time\n",
    "\n",
    "import pandas as pd\n",
    "\n",
    "import gretel_trainer.b2 as b2\n",
    "\n",
    "# Gretel dataset\n",
    "repo = b2.GretelDatasetRepo()\n",
    "iris = repo.get_dataset(\"iris\")\n",
    "\n",
    "# Custom datasets (DF, CSV)\n",
    "bikes = b2.make_dataset(pd.read_csv(\"~/Downloads/bikebuying.csv\"), datatype=\"tabular\", name=\"bikes\")\n",
    "tiny = b2.make_dataset(\"~/Downloads/tiny.csv\", datatype=b2.Datatype.tabular, name=\"tiny\")\n",
    "\n",
    "# Custom model\n",
    "class EchoModel:\n",
    "    def train(self, source, **kwargs):\n",
    "        time.sleep(4)\n",
    "        self.df = pd.read_csv(source.data_source)\n",
    "\n",
    "    def generate(self, **kwargs):\n",
    "        time.sleep(2)\n",
    "        out_path = kwargs[\"preferred_out_path\"]\n",
    "        self.df.to_csv(out_path)\n",
    "        return out_path"
   ]
  },
  {
   "cell_type": "code",
   "execution_count": null,
   "metadata": {},
   "outputs": [],
   "source": [
    "# SDK\n",
    "\n",
    "sdk_comp = b2.compare(\n",
    "    datasets=[iris, bikes, tiny], \n",
    "    models=[b2.GretelAmplify, EchoModel], \n",
    "    project_display_name=\"b2sdk\",\n",
    "    working_dir=\"b2sdk\",\n",
    "    trainer=False,\n",
    ")"
   ]
  },
  {
   "cell_type": "code",
   "execution_count": null,
   "metadata": {},
   "outputs": [],
   "source": [
    "sdk_comp.results"
   ]
  },
  {
   "cell_type": "code",
   "execution_count": null,
   "metadata": {},
   "outputs": [],
   "source": [
    "# Trainer\n",
    "\n",
    "trainer_comp = b2.compare(\n",
    "    datasets=[iris, bikes, tiny], \n",
    "    models=[b2.GretelAmplify], \n",
    "    project_display_name=\"b2trainer\",\n",
    "    working_dir=\"b2trainer\",\n",
    "    trainer=True,\n",
    ")"
   ]
  },
  {
   "cell_type": "code",
   "execution_count": null,
   "metadata": {},
   "outputs": [],
   "source": [
    "trainer_comp.results"
   ]
  },
  {
   "attachments": {},
   "cell_type": "markdown",
   "metadata": {},
   "source": [
    "Below: let's see if I can make model configs that significantly reduce the amount of preview data and skip SQS altogether"
   ]
  },
  {
   "cell_type": "code",
   "execution_count": 9,
   "metadata": {},
   "outputs": [
    {
     "name": "stdout",
     "output_type": "stream",
     "text": [
      "AMPLIFY\n",
      "{'schema_version': '1.0', 'name': 'data-amplification-model', 'models': [{'amplify': {'data_source': '__tmp__', 'params': {'num_records': 10, 'target_size_mb': None}, 'evaluate': {'skip': True}}}]}\n",
      "\n",
      "ACTGAN\n",
      "{'schema_version': '1.0', 'name': 'tabular-actgan', 'models': [{'actgan': {'data_source': '__tmp__', 'params': {'epochs': 'auto', 'generator_dim': [1024, 1024], 'discriminator_dim': [1024, 1024], 'generator_lr': 0.0001, 'discriminator_lr': 0.00033, 'batch_size': 'auto'}, 'generate': {'num_records': 10}, 'privacy_filters': {'outliers': 'auto', 'similarity': 'auto'}, 'evaluate': {'skip': True}}}]}\n",
      "\n",
      "LSTM\n",
      "{'schema_version': '1.0', 'name': 'tabular-lstm', 'models': [{'synthetics': {'data_source': '__tmp__', 'params': {'epochs': 'auto', 'vocab_size': 'auto', 'learning_rate': 'auto', 'batch_size': 'auto', 'rnn_units': 'auto'}, 'generate': {'num_records': 10}, 'privacy_filters': {'outliers': 'auto', 'similarity': 'auto'}, 'evaluate': {'skip': True}}}]}\n",
      "\n"
     ]
    }
   ],
   "source": [
    "import gretel_client as gc\n",
    "\n",
    "def config_dict(blueprint):\n",
    "    return gc.projects.models.read_model_config(blueprint)\n",
    "\n",
    "def model_params(config_dict, model_name):\n",
    "    return config_dict[\"models\"][0][model_name]\n",
    "\n",
    "MINIMAL_GENERATE = {\"num_records\": 10}\n",
    "SKIP_EVALUATE = {\"skip\": True}\n",
    "\n",
    "\n",
    "amplify = config_dict(\"synthetics/amplify\")\n",
    "model_params(amplify, \"amplify\")[\"params\"][\"num_records\"] = 10\n",
    "model_params(amplify, \"amplify\")[\"evaluate\"] = SKIP_EVALUATE\n",
    "\n",
    "actgan = config_dict(\"synthetics/tabular-actgan\")\n",
    "model_params(actgan, \"actgan\")[\"generate\"] = MINIMAL_GENERATE\n",
    "model_params(actgan, \"actgan\")[\"evaluate\"] = SKIP_EVALUATE\n",
    "\n",
    "lstm = config_dict(\"synthetics/tabular-lstm\")\n",
    "model_params(lstm, \"synthetics\")[\"generate\"] = MINIMAL_GENERATE\n",
    "model_params(lstm, \"synthetics\")[\"evaluate\"] = SKIP_EVALUATE\n",
    "\n",
    "\n",
    "print(\"AMPLIFY\")\n",
    "print(amplify)\n",
    "print()\n",
    "print(\"ACTGAN\")\n",
    "print(actgan)\n",
    "print()\n",
    "print(\"LSTM\")\n",
    "print(lstm)\n",
    "print()"
   ]
  },
  {
   "cell_type": "code",
   "execution_count": null,
   "metadata": {},
   "outputs": [],
   "source": [
    "p = gc.create_or_get_unique_project(name=\"mktest\")\n",
    "for config in [amplify, actgan, lstm]:\n",
    "    m = p.create_model_obj(model_config=config, data_source=\"~/Downloads/bikebuying.csv\")\n",
    "    m.submit_cloud()"
   ]
  }
 ],
 "metadata": {
  "kernelspec": {
   "display_name": "Python 3",
   "language": "python",
   "name": "python3"
  },
  "language_info": {
   "codemirror_mode": {
    "name": "ipython",
    "version": 3
   },
   "file_extension": ".py",
   "mimetype": "text/x-python",
   "name": "python",
   "nbconvert_exporter": "python",
   "pygments_lexer": "ipython3",
   "version": "3.9.10"
  },
  "orig_nbformat": 4,
  "vscode": {
   "interpreter": {
    "hash": "c8726cf33f00e2373738d19e8a73b26d03723d6c732c72211354be2991192c77"
   }
  }
 },
 "nbformat": 4,
 "nbformat_minor": 2
}
