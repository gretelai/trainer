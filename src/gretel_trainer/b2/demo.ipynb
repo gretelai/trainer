{
 "cells": [
  {
   "cell_type": "code",
   "execution_count": null,
   "metadata": {},
   "outputs": [],
   "source": [
    "import pandas as pd\n",
    "\n",
    "import gretel_trainer.b2 as b2\n",
    "\n",
    "# Gretel dataset\n",
    "repo = b2.GretelDatasetRepo()\n",
    "iris = repo.get_dataset(\"iris\")\n",
    "\n",
    "# Custom datasets (DF, CSV)\n",
    "bikes = b2.make_dataset(pd.read_csv(\"~/Downloads/bikebuying.csv\"), datatype=\"tabular\", name=\"bikes\")\n",
    "tiny = b2.make_dataset(\"~/Downloads/tiny.csv\", datatype=b2.Datatype.tabular, name=\"tiny\")"
   ]
  },
  {
   "cell_type": "code",
   "execution_count": null,
   "metadata": {},
   "outputs": [],
   "source": [
    "# SDK\n",
    "\n",
    "sdk_comp = b2.compare(\n",
    "    datasets=[iris, bikes, tiny], \n",
    "    models=[b2.GretelAmplify], \n",
    "    project_display_name=\"b2sdk\",\n",
    "    working_dir=\"b2sdk\",\n",
    "    trainer=False,\n",
    ")"
   ]
  },
  {
   "cell_type": "code",
   "execution_count": null,
   "metadata": {},
   "outputs": [],
   "source": [
    "sdk_comp.results"
   ]
  },
  {
   "cell_type": "code",
   "execution_count": null,
   "metadata": {},
   "outputs": [],
   "source": [
    "# Trainer\n",
    "\n",
    "trainer_comp = b2.compare(\n",
    "    datasets=[iris, bikes, tiny], \n",
    "    models=[b2.GretelAmplify], \n",
    "    project_display_name=\"b2trainer\",\n",
    "    working_dir=\"b2trainer\",\n",
    "    trainer=True,\n",
    ")"
   ]
  },
  {
   "cell_type": "code",
   "execution_count": null,
   "metadata": {},
   "outputs": [],
   "source": [
    "trainer_comp.results"
   ]
  }
 ],
 "metadata": {
  "kernelspec": {
   "display_name": "Python 3",
   "language": "python",
   "name": "python3"
  },
  "language_info": {
   "codemirror_mode": {
    "name": "ipython",
    "version": 3
   },
   "file_extension": ".py",
   "mimetype": "text/x-python",
   "name": "python",
   "nbconvert_exporter": "python",
   "pygments_lexer": "ipython3",
   "version": "3.9.10"
  },
  "orig_nbformat": 4,
  "vscode": {
   "interpreter": {
    "hash": "c8726cf33f00e2373738d19e8a73b26d03723d6c732c72211354be2991192c77"
   }
  }
 },
 "nbformat": 4,
 "nbformat_minor": 2
}
